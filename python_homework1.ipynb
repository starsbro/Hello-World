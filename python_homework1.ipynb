{
 "cells": [
  {
   "cell_type": "markdown",
   "metadata": {},
   "source": [
    "# Part 1"
   ]
  },
  {
   "cell_type": "code",
   "execution_count": null,
   "metadata": {},
   "outputs": [
    {
     "ename": "",
     "evalue": "",
     "output_type": "error",
     "traceback": [
      "\u001b[1;31mRunning cells with 'Python 3.13.0' requires the ipykernel package.\n",
      "\u001b[1;31mRun the following command to install 'ipykernel' into the Python environment. \n",
      "\u001b[1;31mCommand: '/opt/homebrew/bin/python3 -m pip install ipykernel -U --user --force-reinstall'"
     ]
    }
   ],
   "source": [
    "#1 A string:  str1 = \"I’m a student at Northeastern University\", count how many numbers of \"e\" occur in this string.          [2 point]\n",
    "str1 = \"I’m a student at Northeastern University\"\n",
    "str1.count('e')\n"
   ]
  },
  {
   "cell_type": "code",
   "execution_count": 19,
   "metadata": {},
   "outputs": [
    {
     "data": {
      "text/plain": [
       "8"
      ]
     },
     "execution_count": 19,
     "metadata": {},
     "output_type": "execute_result"
    }
   ],
   "source": [
    "#2 Give the index of \"u\" in str1.        [2 point]\n",
    "str1.index(\"u\")\n"
   ]
  },
  {
   "cell_type": "code",
   "execution_count": 28,
   "metadata": {},
   "outputs": [
    {
     "data": {
      "text/plain": [
       "'sity'"
      ]
     },
     "execution_count": 28,
     "metadata": {},
     "output_type": "execute_result"
    }
   ],
   "source": [
    "#03 Use the negative indexes to slice the string str1 and get the sub-string \"sity\".       [2 points]\n",
    "# [Note: if you use positive indexes, e.g. [2:10] will not get points]   \n",
    "str1[-4:]\n"
   ]
  },
  {
   "cell_type": "code",
   "execution_count": null,
   "metadata": {},
   "outputs": [
    {
     "ename": "",
     "evalue": "",
     "output_type": "error",
     "traceback": [
      "\u001b[1;31mRunning cells with 'Python 3.13.0' requires the ipykernel package.\n",
      "\u001b[1;31mRun the following command to install 'ipykernel' into the Python environment. \n",
      "\u001b[1;31mCommand: '/opt/homebrew/bin/python3 -m pip install ipykernel -U --user --force-reinstall'"
     ]
    }
   ],
   "source": [
    "#4 Replace the character \"N\" with a \"n\", \"U\" with \"u\" in str1.      [2 points]\n",
    "str1.replace(\"N\", \"n\").replace(\"U\", \"u\")"
   ]
  },
  {
   "cell_type": "code",
   "execution_count": 30,
   "metadata": {},
   "outputs": [
    {
     "data": {
      "text/plain": [
       "'I’M A STUDENT AT NORTHEASTERN UNIVERSITY'"
      ]
     },
     "execution_count": 30,
     "metadata": {},
     "output_type": "execute_result"
    }
   ],
   "source": [
    "#5  Change the entire string str1 to upper case characters.      [2 points]\n",
    "str1.upper()"
   ]
  },
  {
   "cell_type": "code",
   "execution_count": 34,
   "metadata": {},
   "outputs": [
    {
     "name": "stdout",
     "output_type": "stream",
     "text": [
      "Hello! My name is John, and I am 26.\n"
     ]
    }
   ],
   "source": [
    "# 6. We have two variables name and age:     [4 points]\n",
    "# name = \"John\" , age = 26, Please use string format method to print out:\n",
    "# Hello! My name is John, and I am 26.\n",
    "name = \"John\"\n",
    "age = 26\n",
    "\n",
    "print(\"Hello! My name is {}, and I am {}.\".format(name, age))"
   ]
  },
  {
   "cell_type": "code",
   "execution_count": 39,
   "metadata": {},
   "outputs": [
    {
     "name": "stdout",
     "output_type": "stream",
     "text": [
      "I have a laptop. It has 8 CPUs and 16GB memory.\n"
     ]
    }
   ],
   "source": [
    "#7 The statements are as below: [4 points] \n",
    "# myorder = \"I have a {}. It has {} {} and {} {} memory.\"\n",
    "# print(myorder.format(\"laptop\", \"GB\", \"CPUs\", 8, 16)\n",
    "# Please fill in appropriate values in the placeholders to print out as below:\n",
    "# I have a laptop. It has 8 CPUs and 16GB memory.\n",
    "myorder = \"I have a {}. It has {} {} and {}{} memory.\"\n",
    "print(myorder.format(\"laptop\", 8, \"CPUs\", 16,\"GB\" ))"
   ]
  },
  {
   "cell_type": "code",
   "execution_count": 41,
   "metadata": {},
   "outputs": [
    {
     "data": {
      "text/plain": [
       "'A Method To Accelerate Computation For Machine Learning.'"
      ]
     },
     "execution_count": 41,
     "metadata": {},
     "output_type": "execute_result"
    }
   ],
   "source": [
    "# 8. A string:      [2 point]\n",
    "# A method to accelerate computation for machine learning.\n",
    "# Write a command to make the first letter in each word with upper cases.\n",
    "str2 = \"A method to accelerate computation for machine learning.\"\n",
    "str2.title()"
   ]
  },
  {
   "cell_type": "code",
   "execution_count": 60,
   "metadata": {},
   "outputs": [
    {
     "data": {
      "text/plain": [
       "'great'"
      ]
     },
     "execution_count": 60,
     "metadata": {},
     "output_type": "execute_result"
    }
   ],
   "source": [
    "#9. A string:          [4 points]\n",
    "# Astr = \",,,oohhmy.....great....ahhh……\"\n",
    "# Please remove all other characters and print out : “great”\n",
    "Astr = \",,,oohhmy.....great....ahhh……\"\n",
    "Astr.strip(\",…ohmy.a\")"
   ]
  },
  {
   "cell_type": "code",
   "execution_count": 61,
   "metadata": {},
   "outputs": [
    {
     "name": "stdout",
     "output_type": "stream",
     "text": [
      "I am standing in the ****center****.\n"
     ]
    }
   ],
   "source": [
    "# 10. Please use string formatting to print the output as below:    [4 points]\n",
    "# I am standing in the ****center****.\n",
    "location = \"center\"\n",
    "print(f\"I am standing in the ****{location}****.\")\n"
   ]
  },
  {
   "cell_type": "code",
   "execution_count": 63,
   "metadata": {},
   "outputs": [
    {
     "name": "stdout",
     "output_type": "stream",
     "text": [
      "'Dear Ms. Smith, your account abc123 has a balance of approximately $1_234_567.87.'\n"
     ]
    }
   ],
   "source": [
    "\"\"\"\n",
    "11. Given the 4 variables:    [4 points]\n",
    "title = \"Ms.\"\n",
    "name = \"Smith\"\n",
    "account = \"abc123\"\n",
    "balance = 1234567.86834269\n",
    "Please format the string and print out the output:\n",
    "'Dear Ms. Smith, your account abc123 has a balance of approximately $1_234_567.87.'\n",
    "\"\"\"\n",
    "title = \"Ms.\"\n",
    "name = \"Smith\"\n",
    "account = \"abc123\"\n",
    "balance = 1234567.86834269\n",
    "print(\"'\"+f\"Dear {title} {name}, your account {account} has a balance of approximately ${balance:_.2f}.\"+\"'\")"
   ]
  },
  {
   "cell_type": "code",
   "execution_count": 76,
   "metadata": {},
   "outputs": [
    {
     "name": "stdout",
     "output_type": "stream",
     "text": [
      "I have an appointment today at the clinic at 6:00 PM. I better hurry fast, I have to travel 7.0 miles.\n"
     ]
    }
   ],
   "source": [
    "\"\"\"\n",
    "12. Given the variables and statement,     [6 points]\n",
    "time = \"   6:00 PM.   \"\n",
    "\n",
    "mytask = \"I have an {} today at the clinic at {} I better hurry fast, I have to travel {} miles.\"\n",
    "\n",
    "print(mytask.format(\"appointment\",time,\"6.9876\"))\n",
    "Please fix the print statement to get a desired output as:\n",
    "\"I have an appointment today at the clinic at 6:00 PM. I better hurry fast, I have to travel 7.0 miles.\"\n",
    "Require: use round() to work with miles.\n",
    "\"\"\"\n",
    "time = \"   6:00 PM.   \"\n",
    "mytask = \"I have an {} today at the clinic at {} I better hurry fast, I have to travel {} miles.\"\n",
    "print(mytask.format(\"appointment\",time.strip(),round(6.9876, 1)))"
   ]
  },
  {
   "cell_type": "code",
   "execution_count": 84,
   "metadata": {},
   "outputs": [
    {
     "name": "stdout",
     "output_type": "stream",
     "text": [
      "1  1    1   \n",
      "2  4    8   \n",
      "3  9    27  \n",
      "4  16   64  \n",
      "5  25   125 \n",
      "6  36   216 \n",
      "7  49   343 \n",
      "8  64   512 \n",
      "9  81   729 \n",
      "10 100  1000\n",
      " 1    1    1\n",
      " 2    4    8\n",
      " 3    9   27\n",
      " 4   16   64\n",
      " 5   25  125\n",
      " 6   36  216\n",
      " 7   49  343\n",
      " 8   64  512\n",
      " 9   81  729\n",
      "10  100 1000\n"
     ]
    }
   ],
   "source": [
    "\"\"\"\n",
    "13. The following code snippet will get the result as below:         [6 points]\n",
    "for x in range(1, 11):\n",
    "\n",
    "    print('{} {} {}'.format(x, x*x, x*x*x))\n",
    "\n",
    "1 1 1\n",
    "2 4 8\n",
    "3 9 27\n",
    "4 16 64\n",
    "5 25 125\n",
    "6 36 216\n",
    "7 49 343\n",
    "8 64 512\n",
    "9 81 729\n",
    "10 100 1000 \n",
    "Please format the strings to get the desired output as below:\n",
    " 1   1    1\n",
    "\n",
    " 2   4    8\n",
    "\n",
    " 3   9   27\n",
    "\n",
    " 4  16   64\n",
    "\n",
    " 5  25  125\n",
    "\n",
    " 6  36  216\n",
    "\n",
    " 7  49  343\n",
    "\n",
    " 8  64  512\n",
    "\n",
    " 9  81  729\n",
    "\n",
    "10 100 1000\n",
    "\"\"\"\n",
    "for x in range(1, 11):\n",
    "    print('{:<2} {:<4} {:<4}'.format(x, x*x, x*x*x))  #left-aligned\n",
    "\n",
    "for x in range(1, 11):    \n",
    "    print('{:>2} {:>4} {:>4}'.format(x, x*x, x*x*x))  #right-aligned"
   ]
  },
  {
   "cell_type": "markdown",
   "metadata": {},
   "source": [
    "# Part 2"
   ]
  },
  {
   "cell_type": "code",
   "execution_count": 95,
   "metadata": {},
   "outputs": [
    {
     "name": "stdout",
     "output_type": "stream",
     "text": [
      "['cherry', 'orange', 'kiwi']\n",
      "['banana', 'orange', 'melon']\n",
      "['apple', 'lemon', 'cherry', 'orange', 'kiwi', 'melon']\n"
     ]
    }
   ],
   "source": [
    "\"\"\"\n",
    "14. A list:     [10 points]\n",
    "fruits = [\"apple\", \"banana\", \"cherry\", \"orange\", \"kiwi\", \"melon\", \"mango\"]\n",
    "(1) Use a command to print out: [\"cherry\", \"orange\", \"kiwi\"]\n",
    "(2) Use a command to print out: [\"banana\", \"orange\", \"melon\"]\n",
    "(3) Remove \"banana\" from this list.\n",
    "(4) Insert \"lemon\" as the second item in the list.\n",
    "(5) Delete the last item from this list.\n",
    "\"\"\"\n",
    "\n",
    "fruits = [\"apple\", \"banana\", \"cherry\", \"orange\", \"kiwi\", \"melon\", \"mango\"]\n",
    "print(fruits[2:5])\n",
    "print(fruits[1:6:2])\n",
    "fruits.remove(\"banana\")\n",
    "fruits.insert(1, \"lemon\")\n",
    "fruits.pop()\n",
    "print(fruits)"
   ]
  },
  {
   "cell_type": "code",
   "execution_count": 107,
   "metadata": {},
   "outputs": [
    {
     "name": "stdout",
     "output_type": "stream",
     "text": [
      "the (1) question result is [2, 4, 6, 8, 11, 1] \n",
      "the (2) question result is [2, 4, 6, 8, 100, 11, 1] \n",
      "the (3) question result is [2, 4, 6, 8, 20, 30, 11, 1] \n"
     ]
    }
   ],
   "source": [
    "'''\n",
    "15. A list:       [9 points]\n",
    "num3 = [2, 4, 6, 8, 11, 12]\n",
    "(1) change the last item to 1: [2, 4, 6, 8, 11, 1]                      [3 points]\n",
    "(2) modify this list to get: [2, 4, 6, 8, 100, 11, 1]                    [3 points]\n",
    "(3) modify this list to get: [2, 4, 6, 8, 20, 30, 11, 1]                [3 points]\n",
    "'''\n",
    "num3 = [2, 4, 6, 8, 11, 12]\n",
    "num3[-1] = 1\n",
    "print(f\"the (1) question result is {num3} \")\n",
    "num3.insert(4, 100)\n",
    "print(f\"the (2) question result is {num3} \")\n",
    "num3.remove(100)\n",
    "num3.insert(4, 20)\n",
    "num3.insert(5, 30)\n",
    "print(f\"the (3) question result is {num3} \")"
   ]
  },
  {
   "cell_type": "code",
   "execution_count": 119,
   "metadata": {},
   "outputs": [
    {
     "data": {
      "text/plain": [
       "[1, 2, 3, 4, 5, 6, 7, 8, 10]"
      ]
     },
     "execution_count": 119,
     "metadata": {},
     "output_type": "execute_result"
    }
   ],
   "source": [
    "'''\n",
    "16. Use list methods to get a new list as: newlist = [1,2,3,4,5,6,7,8,10]                  [4 points]\n",
    "list1 = [1,3,5,7]\n",
    "list2 = [2,4,6,8,10]\n",
    "'''\n",
    "list1 = [1,3,5,7]\n",
    "list2 = [2,4,6,8,10]\n",
    "newlist = list1 + list2\n",
    "newlist.sort()\n",
    "newlist"
   ]
  },
  {
   "cell_type": "code",
   "execution_count": 120,
   "metadata": {},
   "outputs": [
    {
     "data": {
      "text/plain": [
       "[24, 35, 9, 56, 12]"
      ]
     },
     "execution_count": 120,
     "metadata": {},
     "output_type": "execute_result"
    }
   ],
   "source": [
    "'''\n",
    "17. Given a list, use indexing to swap first and last element of the list.     [4 points]\n",
    "alist = [12, 35, 9, 56, 24]\n",
    "Desired output:\n",
    "[24, 35, 9, 56, 12]\n",
    "'''\n",
    "alist = [12, 35, 9, 56, 24]\n",
    "alist[0], alist[-1] = alist[-1],alist[0]\n",
    "alist"
   ]
  },
  {
   "cell_type": "code",
   "execution_count": 123,
   "metadata": {},
   "outputs": [
    {
     "name": "stdout",
     "output_type": "stream",
     "text": [
      "3 doesn't exist in alist.\n"
     ]
    }
   ],
   "source": [
    "\"\"\"\n",
    "18. Check if 3 exists in alist or not:   [2 points]\n",
    "alist = [1,2,4,5,6,7,8,10, 0, 4]\n",
    "\"\"\"\n",
    "alist = [1,2,4,5,6,7,8,10, 0, 4]\n",
    "if 3 in alist:\n",
    "    print(\"3 exists in alist.\")\n",
    "else:\n",
    "    print(\"3 doesn't exist in alist.\")"
   ]
  },
  {
   "cell_type": "code",
   "execution_count": 134,
   "metadata": {},
   "outputs": [
    {
     "name": "stdout",
     "output_type": "stream",
     "text": [
      "the 1 question result is ['info5002', 'fits', 'Python', 'beginners'].\n",
      "the 2 question result is ['info5002', 'fits', 'Python', 'Beginners'].\n",
      "info5002 fits Python Beginners\n"
     ]
    }
   ],
   "source": [
    "\"\"\"\n",
    "19. A list:    [12 points]\n",
    "alist = ['info5002', 'fits', 'java', 'beginners']\n",
    "(1) Modify this list to be: [‘info5002’, ‘fits’, ‘Python’, ‘beginners’]\n",
    "(2) Modify this list to be: [‘INFO5002’, ‘fits’, ‘Python’, ‘Beginners’]\n",
    "(3) Print out as: “INFO5002 fits Python Beginners”\n",
    "Note: the output is a string, not list.\n",
    "\"\"\"\n",
    "alist = ['info5002', 'fits', 'java', 'beginners']\n",
    "alist[2] = \"Python\"\n",
    "print(f\"the 1 question result is {alist}.\" )\n",
    "alist[-1]= \"Beginners\"\n",
    "print(f\"the 2 question result is {alist}.\" )\n",
    "print(f\"{alist[0]} {alist[1]} {alist[2]} {alist[3]}\")\n"
   ]
  },
  {
   "cell_type": "code",
   "execution_count": 150,
   "metadata": {},
   "outputs": [
    {
     "name": "stdout",
     "output_type": "stream",
     "text": [
      "The first question result is ('apple', 'kiwi', 'banana', 'cherry')\n",
      "The second question result is ('apple', 'banana', 'cherry', 'lemon')\n",
      "The second question result is ('apple', 'banana', 'cherry', 'lemon')\n"
     ]
    }
   ],
   "source": [
    "\"\"\"\n",
    "20. A tuple:                 [8 points]\n",
    "fruits1 = (\"apple\", \"banana\", \"cherry\")\n",
    "(1) Take workaround to insert \"kiwi\" as the second item in this tuple.         [4 pts]\n",
    "(2) Add “lemon” to the end of this tuple.                   [4 pts]\n",
    "\"\"\"\n",
    "fruits1 = (\"apple\", \"banana\", \"cherry\")\n",
    "temp_list = list(fruits1)\n",
    "temp_list.insert(1, \"kiwi\")\n",
    "my_fruits1 = tuple(temp_list)\n",
    "print(f\"The first question result is {my_fruits1}\")\n",
    "\n",
    "# a method to add an element to the end of this tuple \n",
    "temp_list2 = list(fruits1)\n",
    "temp_list2.append(\"lemon\")\n",
    "my_fruits2 = tuple(temp_list2)\n",
    "print(f\"The second question result is {my_fruits2}\")\n",
    "\n",
    "# Another meothod to add an element to the end of this tuple,create a new tuple by concatenate two tuple\n",
    "my_fruits3 = fruits1 + (\"lemon\",)\n",
    "print(f\"The second question result is {my_fruits3}\")\n",
    "\n"
   ]
  },
  {
   "cell_type": "code",
   "execution_count": 166,
   "metadata": {},
   "outputs": [
    {
     "name": "stdout",
     "output_type": "stream",
     "text": [
      "0x110559200\n",
      "0x110559200\n",
      "0x11055be00\n"
     ]
    },
    {
     "data": {
      "text/plain": [
       "[1, 2, 3, 4, 5, 6, 7, 8, 9]"
      ]
     },
     "execution_count": 166,
     "metadata": {},
     "output_type": "execute_result"
    }
   ],
   "source": [
    "\"\"\"\n",
    "21. Please explain the following questions: [9 points]\n",
    "* What is the difference between del keyword and clear() method?\n",
    "* What is the difference between list2 = list1 and list2=list1.copy()?\n",
    "* What is the difference between append() and extend()?\n",
    "\"\"\"\n",
    "# del keyword and clear() method\n",
    "mylist = [1,2,3,4,5]\n",
    "mylist.clear() # clear() means delete all element in this data type\n",
    "mylist\n",
    "del(mylist) #del means delete this data type, not just some element\n",
    "\n",
    "\n",
    "# list2 = list1 means list2 and list1 point the same memory location\n",
    "# list2 = list1.copy() means create a new list and assign to list2, list2 point the different memory address with list1\n",
    "list1 = [1,2,3,4,5]\n",
    "list2 = list1\n",
    "print(hex(id(list1)))\n",
    "print(hex(id(list2)))\n",
    "list3 = list1.copy()\n",
    "print(hex(id(list3)))\n",
    "\n",
    "# append() just can add one element one time, but extend() can add more than one element one time\n",
    "list1.append(6)\n",
    "list1.extend([7,8,9])\n",
    "list1"
   ]
  },
  {
   "cell_type": "code",
   "execution_count": null,
   "metadata": {},
   "outputs": [
    {
     "ename": "",
     "evalue": "",
     "output_type": "error",
     "traceback": [
      "\u001b[1;31mRunning cells with 'Python 3.13.0' requires the ipykernel package.\n",
      "\u001b[1;31mRun the following command to install 'ipykernel' into the Python environment. \n",
      "\u001b[1;31mCommand: '/opt/homebrew/bin/python3 -m pip install ipykernel -U --user --force-reinstall'"
     ]
    }
   ],
   "source": [
    "mylist = [1,1,2,3]\n",
    "\n",
    "# I want to delete duplicated element, don't use set\n",
    "for element in mylist:\n",
    "    if mylist.count(element) > 1:\n",
    "       mylist.remove(element)\n",
    "\n",
    "print(mylist)\n",
    "\n",
    "# use set to delete dublicated element\n",
    "mylist1 = [1,1,2,3]\n",
    "mylist2 = list(set(mylist))\n",
    "print(mylist2)"
   ]
  },
  {
   "cell_type": "code",
   "execution_count": null,
   "metadata": {},
   "outputs": [
    {
     "ename": "",
     "evalue": "",
     "output_type": "error",
     "traceback": [
      "\u001b[1;31mRunning cells with 'Python 3.13.0' requires the ipykernel package.\n",
      "\u001b[1;31mRun the following command to install 'ipykernel' into the Python environment. \n",
      "\u001b[1;31mCommand: '/opt/homebrew/bin/python3 -m pip install ipykernel -U --user --force-reinstall'"
     ]
    }
   ],
   "source": [
    "mylist = [1,2,3,4,5]\n",
    "mylist[1:1] = [6]\n",
    "print(mylist)\n",
    "mylist[1:-1] = [6]\n",
    "print(mylist)\n",
    "mylist[1:-2] = [6]\n",
    "print(mylist)\n",
    "\n",
    "#print(type(mylist))"
   ]
  },
  {
   "cell_type": "code",
   "execution_count": null,
   "metadata": {},
   "outputs": [],
   "source": []
  }
 ],
 "metadata": {
  "kernelspec": {
   "display_name": "Python 3",
   "language": "python",
   "name": "python3"
  },
  "language_info": {
   "codemirror_mode": {
    "name": "ipython",
    "version": 3
   },
   "file_extension": ".py",
   "mimetype": "text/x-python",
   "name": "python",
   "nbconvert_exporter": "python",
   "pygments_lexer": "ipython3",
   "version": "3.13.0"
  }
 },
 "nbformat": 4,
 "nbformat_minor": 2
}
